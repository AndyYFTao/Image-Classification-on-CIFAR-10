{
  "nbformat": 4,
  "nbformat_minor": 0,
  "metadata": {
    "colab": {
      "name": "Image Classification on CIFAR-10.ipynb",
      "provenance": [],
      "collapsed_sections": [
        "RWhISsQh0UP2",
        "GN2WnIqZ0ZYV",
        "jYZROHUXBaXE",
        "MiJSjSkGvksw",
        "VZrGfcce4DOr",
        "GIRCyQ8nZUwX",
        "UaKXgDcFV2eJ",
        "hp53eHQPNqVj",
        "IKkiUir5vyt1",
        "iJdW1TCBMT4i",
        "8bmUxyguWaoZ"
      ],
      "toc_visible": true,
      "include_colab_link": true
    },
    "kernelspec": {
      "name": "python3",
      "display_name": "Python 3"
    },
    "language_info": {
      "name": "python"
    },
    "accelerator": "GPU",
    "widgets": {
      "application/vnd.jupyter.widget-state+json": {
        "19f8dc99d5ec48b9ad67cf7e79bf8f09": {
          "model_module": "@jupyter-widgets/controls",
          "model_name": "HBoxModel",
          "state": {
            "_view_name": "HBoxView",
            "_dom_classes": [],
            "_model_name": "HBoxModel",
            "_view_module": "@jupyter-widgets/controls",
            "_model_module_version": "1.5.0",
            "_view_count": null,
            "_view_module_version": "1.5.0",
            "box_style": "",
            "layout": "IPY_MODEL_12736e33fa3d40078aeaa9a8f48c36a4",
            "_model_module": "@jupyter-widgets/controls",
            "children": [
              "IPY_MODEL_4ba0644718944d3cbb9834034a42b1d1",
              "IPY_MODEL_1c751544c83f45ed933c1b2bc92b555d"
            ]
          }
        },
        "12736e33fa3d40078aeaa9a8f48c36a4": {
          "model_module": "@jupyter-widgets/base",
          "model_name": "LayoutModel",
          "state": {
            "_view_name": "LayoutView",
            "grid_template_rows": null,
            "right": null,
            "justify_content": null,
            "_view_module": "@jupyter-widgets/base",
            "overflow": null,
            "_model_module_version": "1.2.0",
            "_view_count": null,
            "flex_flow": null,
            "width": null,
            "min_width": null,
            "border": null,
            "align_items": null,
            "bottom": null,
            "_model_module": "@jupyter-widgets/base",
            "top": null,
            "grid_column": null,
            "overflow_y": null,
            "overflow_x": null,
            "grid_auto_flow": null,
            "grid_area": null,
            "grid_template_columns": null,
            "flex": null,
            "_model_name": "LayoutModel",
            "justify_items": null,
            "grid_row": null,
            "max_height": null,
            "align_content": null,
            "visibility": null,
            "align_self": null,
            "height": null,
            "min_height": null,
            "padding": null,
            "grid_auto_rows": null,
            "grid_gap": null,
            "max_width": null,
            "order": null,
            "_view_module_version": "1.2.0",
            "grid_template_areas": null,
            "object_position": null,
            "object_fit": null,
            "grid_auto_columns": null,
            "margin": null,
            "display": null,
            "left": null
          }
        },
        "4ba0644718944d3cbb9834034a42b1d1": {
          "model_module": "@jupyter-widgets/controls",
          "model_name": "FloatProgressModel",
          "state": {
            "_view_name": "ProgressView",
            "style": "IPY_MODEL_89c4e309bcf649c7b634d467140504c5",
            "_dom_classes": [],
            "description": "",
            "_model_name": "FloatProgressModel",
            "bar_style": "success",
            "max": 170498071,
            "_view_module": "@jupyter-widgets/controls",
            "_model_module_version": "1.5.0",
            "value": 170498071,
            "_view_count": null,
            "_view_module_version": "1.5.0",
            "orientation": "horizontal",
            "min": 0,
            "description_tooltip": null,
            "_model_module": "@jupyter-widgets/controls",
            "layout": "IPY_MODEL_e77da663fc844246ba5450a98f3f43f9"
          }
        },
        "1c751544c83f45ed933c1b2bc92b555d": {
          "model_module": "@jupyter-widgets/controls",
          "model_name": "HTMLModel",
          "state": {
            "_view_name": "HTMLView",
            "style": "IPY_MODEL_b54d5c71e0084528a411888c49a58464",
            "_dom_classes": [],
            "description": "",
            "_model_name": "HTMLModel",
            "placeholder": "​",
            "_view_module": "@jupyter-widgets/controls",
            "_model_module_version": "1.5.0",
            "value": " 170499072/? [00:11&lt;00:00, 14476298.63it/s]",
            "_view_count": null,
            "_view_module_version": "1.5.0",
            "description_tooltip": null,
            "_model_module": "@jupyter-widgets/controls",
            "layout": "IPY_MODEL_f76a3b7671b443c1a2f697dfc4d3384d"
          }
        },
        "89c4e309bcf649c7b634d467140504c5": {
          "model_module": "@jupyter-widgets/controls",
          "model_name": "ProgressStyleModel",
          "state": {
            "_view_name": "StyleView",
            "_model_name": "ProgressStyleModel",
            "description_width": "initial",
            "_view_module": "@jupyter-widgets/base",
            "_model_module_version": "1.5.0",
            "_view_count": null,
            "_view_module_version": "1.2.0",
            "bar_color": null,
            "_model_module": "@jupyter-widgets/controls"
          }
        },
        "e77da663fc844246ba5450a98f3f43f9": {
          "model_module": "@jupyter-widgets/base",
          "model_name": "LayoutModel",
          "state": {
            "_view_name": "LayoutView",
            "grid_template_rows": null,
            "right": null,
            "justify_content": null,
            "_view_module": "@jupyter-widgets/base",
            "overflow": null,
            "_model_module_version": "1.2.0",
            "_view_count": null,
            "flex_flow": null,
            "width": null,
            "min_width": null,
            "border": null,
            "align_items": null,
            "bottom": null,
            "_model_module": "@jupyter-widgets/base",
            "top": null,
            "grid_column": null,
            "overflow_y": null,
            "overflow_x": null,
            "grid_auto_flow": null,
            "grid_area": null,
            "grid_template_columns": null,
            "flex": null,
            "_model_name": "LayoutModel",
            "justify_items": null,
            "grid_row": null,
            "max_height": null,
            "align_content": null,
            "visibility": null,
            "align_self": null,
            "height": null,
            "min_height": null,
            "padding": null,
            "grid_auto_rows": null,
            "grid_gap": null,
            "max_width": null,
            "order": null,
            "_view_module_version": "1.2.0",
            "grid_template_areas": null,
            "object_position": null,
            "object_fit": null,
            "grid_auto_columns": null,
            "margin": null,
            "display": null,
            "left": null
          }
        },
        "b54d5c71e0084528a411888c49a58464": {
          "model_module": "@jupyter-widgets/controls",
          "model_name": "DescriptionStyleModel",
          "state": {
            "_view_name": "StyleView",
            "_model_name": "DescriptionStyleModel",
            "description_width": "",
            "_view_module": "@jupyter-widgets/base",
            "_model_module_version": "1.5.0",
            "_view_count": null,
            "_view_module_version": "1.2.0",
            "_model_module": "@jupyter-widgets/controls"
          }
        },
        "f76a3b7671b443c1a2f697dfc4d3384d": {
          "model_module": "@jupyter-widgets/base",
          "model_name": "LayoutModel",
          "state": {
            "_view_name": "LayoutView",
            "grid_template_rows": null,
            "right": null,
            "justify_content": null,
            "_view_module": "@jupyter-widgets/base",
            "overflow": null,
            "_model_module_version": "1.2.0",
            "_view_count": null,
            "flex_flow": null,
            "width": null,
            "min_width": null,
            "border": null,
            "align_items": null,
            "bottom": null,
            "_model_module": "@jupyter-widgets/base",
            "top": null,
            "grid_column": null,
            "overflow_y": null,
            "overflow_x": null,
            "grid_auto_flow": null,
            "grid_area": null,
            "grid_template_columns": null,
            "flex": null,
            "_model_name": "LayoutModel",
            "justify_items": null,
            "grid_row": null,
            "max_height": null,
            "align_content": null,
            "visibility": null,
            "align_self": null,
            "height": null,
            "min_height": null,
            "padding": null,
            "grid_auto_rows": null,
            "grid_gap": null,
            "max_width": null,
            "order": null,
            "_view_module_version": "1.2.0",
            "grid_template_areas": null,
            "object_position": null,
            "object_fit": null,
            "grid_auto_columns": null,
            "margin": null,
            "display": null,
            "left": null
          }
        }
      }
    }
  },
  "cells": [
    {
      "cell_type": "markdown",
      "metadata": {
        "id": "view-in-github",
        "colab_type": "text"
      },
      "source": [
        "<a href=\"https://colab.research.google.com/github/AndyYFTao/Image-Classification-on-CIFAR-10/blob/main/Image_Classification_on_CIFAR_10.ipynb\" target=\"_parent\"><img src=\"https://colab.research.google.com/assets/colab-badge.svg\" alt=\"Open In Colab\"/></a>"
      ]
    },
    {
      "cell_type": "markdown",
      "metadata": {
        "id": "ipyuN9160jGG"
      },
      "source": [
        "#Image Classification on CIFAR-10\n",
        "by Tao Yufeng, Cai Yuxi, Gan Dailin, Huang Yifeng\n",
        "\n"
      ]
    },
    {
      "cell_type": "markdown",
      "metadata": {
        "id": "BeymccX3ye0n"
      },
      "source": [
        "##I. Data Preprocessing"
      ]
    },
    {
      "cell_type": "code",
      "metadata": {
        "id": "_gm2NDqIdqry",
        "colab": {
          "base_uri": "https://localhost:8080/"
        },
        "outputId": "b41d6365-8cc8-4070-f6a2-66e5b73658d7"
      },
      "source": [
        "import torchvision.transforms as transforms\n",
        "import torchvision.datasets as datasets\n",
        "import torch\n",
        "print(torch.__version__)\n",
        "\n",
        "import matplotlib.pyplot as plt\n",
        "import numpy as np\n",
        "import torchvision\n",
        "print(torchvision.__version__)"
      ],
      "execution_count": null,
      "outputs": [
        {
          "output_type": "stream",
          "text": [
            "1.8.1+cu101\n",
            "0.9.1+cu101\n"
          ],
          "name": "stdout"
        }
      ]
    },
    {
      "cell_type": "markdown",
      "metadata": {
        "id": "qgW48rW_9DHP"
      },
      "source": [
        "### I-1 Data Transformation\n",
        "**Dataset description**: The CIFAR-10 dataset consists of 50000 training images and 10000 testing images in 10 different classes, each image having a size of 32 by 32 pixels with 3 colour channels."
      ]
    },
    {
      "cell_type": "code",
      "metadata": {
        "id": "PiKtu2O3pBgk"
      },
      "source": [
        "def normalization_para (trainset=True):\n",
        "    dataset = datasets.CIFAR10(root='./data', train=trainset, download=True, transform=transforms.ToTensor())\n",
        "    print(dataset.data.shape)\n",
        "    norm_mean = dataset.data.mean(axis=(0,1,2))/dataset.data.max()\n",
        "    norm_std_dev = dataset.data.std(axis=(0,1,2))/dataset.data.max()\n",
        "    print(norm_mean)\n",
        "    print(norm_std_dev)\n",
        "    return norm_mean, norm_std_dev"
      ],
      "execution_count": null,
      "outputs": []
    },
    {
      "cell_type": "code",
      "metadata": {
        "id": "f-vQtFss88_X",
        "colab": {
          "base_uri": "https://localhost:8080/",
          "height": 223,
          "referenced_widgets": [
            "19f8dc99d5ec48b9ad67cf7e79bf8f09",
            "12736e33fa3d40078aeaa9a8f48c36a4",
            "4ba0644718944d3cbb9834034a42b1d1",
            "1c751544c83f45ed933c1b2bc92b555d",
            "89c4e309bcf649c7b634d467140504c5",
            "e77da663fc844246ba5450a98f3f43f9",
            "b54d5c71e0084528a411888c49a58464",
            "f76a3b7671b443c1a2f697dfc4d3384d"
          ]
        },
        "outputId": "9cffdbb5-94ff-4632-c024-9ef88397ae20"
      },
      "source": [
        "norm_mean, norm_std_dev = normalization_para()\n",
        "transform_train = transforms.Compose([\n",
        "    transforms.Resize(256),\n",
        "    transforms.CenterCrop(224),\n",
        "    transforms.ToTensor(),\n",
        "    transforms.Normalize(norm_mean, norm_std_dev)\n",
        "])\n",
        "\n",
        "norm_mean, norm_std_dev = normalization_para(False)\n",
        "transform_test = transforms.Compose([\n",
        "    transforms.Resize(256),\n",
        "    transforms.CenterCrop(224),\n",
        "    transforms.ToTensor(),\n",
        "    transforms.Normalize(norm_mean, norm_std_dev)\n",
        "])"
      ],
      "execution_count": null,
      "outputs": [
        {
          "output_type": "stream",
          "text": [
            "Downloading https://www.cs.toronto.edu/~kriz/cifar-10-python.tar.gz to ./data/cifar-10-python.tar.gz\n"
          ],
          "name": "stdout"
        },
        {
          "output_type": "display_data",
          "data": {
            "application/vnd.jupyter.widget-view+json": {
              "model_id": "19f8dc99d5ec48b9ad67cf7e79bf8f09",
              "version_minor": 0,
              "version_major": 2
            },
            "text/plain": [
              "HBox(children=(FloatProgress(value=0.0, max=170498071.0), HTML(value='')))"
            ]
          },
          "metadata": {
            "tags": []
          }
        },
        {
          "output_type": "stream",
          "text": [
            "\n",
            "Extracting ./data/cifar-10-python.tar.gz to ./data\n",
            "(50000, 32, 32, 3)\n",
            "[0.49139968 0.48215841 0.44653091]\n",
            "[0.24703223 0.24348513 0.26158784]\n",
            "Files already downloaded and verified\n",
            "(10000, 32, 32, 3)\n",
            "[0.49421428 0.48513139 0.45040909]\n",
            "[0.24665252 0.24289226 0.26159238]\n"
          ],
          "name": "stdout"
        }
      ]
    },
    {
      "cell_type": "markdown",
      "metadata": {
        "id": "GhyxKVrj9Rze"
      },
      "source": [
        "### I-2 Data Loading"
      ]
    },
    {
      "cell_type": "markdown",
      "metadata": {
        "id": "jv2ScBCS-XXe"
      },
      "source": [
        "I-2-1 Training & Validation Set"
      ]
    },
    {
      "cell_type": "code",
      "metadata": {
        "colab": {
          "base_uri": "https://localhost:8080/"
        },
        "id": "XFhh3Fa3-Lfw",
        "outputId": "3905e84f-30bb-4b0d-9b93-9554c53b8547"
      },
      "source": [
        "train_batch_size = 32\n",
        "val_batch_size = 100 # TBC\n",
        "log_interval = 100 \n",
        "seed = 1\n",
        "torch.manual_seed(seed)"
      ],
      "execution_count": null,
      "outputs": [
        {
          "output_type": "execute_result",
          "data": {
            "text/plain": [
              "<torch._C.Generator at 0x7f93d1ebc970>"
            ]
          },
          "metadata": {
            "tags": []
          },
          "execution_count": 4
        }
      ]
    },
    {
      "cell_type": "code",
      "metadata": {
        "colab": {
          "base_uri": "https://localhost:8080/"
        },
        "id": "NLxF6g2JoaVH",
        "outputId": "a7dc0796-cb7f-45fe-ad69-d0f3e637af7e"
      },
      "source": [
        "train_val = datasets.CIFAR10(\n",
        "    root='./data', train=True, download=True, transform=transform_train)\n",
        "trainset, valset = torch.utils.data.random_split(train_val, [44000, 6000])\n",
        "\n",
        "train_loader = torch.utils.data.DataLoader(\n",
        "    trainset, batch_size=train_batch_size, shuffle=True)#, num_workers=2)\n",
        "val_loader = torch.utils.data.DataLoader(\n",
        "    valset, batch_size=val_batch_size, shuffle=True)#, num_workers=2)"
      ],
      "execution_count": null,
      "outputs": [
        {
          "output_type": "stream",
          "text": [
            "Files already downloaded and verified\n"
          ],
          "name": "stdout"
        }
      ]
    },
    {
      "cell_type": "markdown",
      "metadata": {
        "id": "p4eTc7cb-dPF"
      },
      "source": [
        "I-2-2 Testing Set"
      ]
    },
    {
      "cell_type": "code",
      "metadata": {
        "id": "PZVGaOP_-VbR"
      },
      "source": [
        "test_batch_size = 100 # TBC"
      ],
      "execution_count": null,
      "outputs": []
    },
    {
      "cell_type": "code",
      "metadata": {
        "colab": {
          "base_uri": "https://localhost:8080/"
        },
        "id": "KeCOyvejivSv",
        "outputId": "bca6c8cf-30e0-486f-e404-2a82ff48f8ac"
      },
      "source": [
        "testset = datasets.CIFAR10(\n",
        "    root='./data', train=False, download=True, transform=transform_test)\n",
        "test_loader = torch.utils.data.DataLoader(\n",
        "    testset, batch_size=test_batch_size, shuffle=False)#, num_workers=2)"
      ],
      "execution_count": null,
      "outputs": [
        {
          "output_type": "stream",
          "text": [
            "Files already downloaded and verified\n"
          ],
          "name": "stdout"
        }
      ]
    },
    {
      "cell_type": "markdown",
      "metadata": {
        "id": "okB9Yjs4-reF"
      },
      "source": [
        "I-2-3 Classes"
      ]
    },
    {
      "cell_type": "code",
      "metadata": {
        "id": "lZnVL3ET-FDC"
      },
      "source": [
        "classes = ('plane', 'car', 'bird', 'cat', 'deer',\n",
        "           'dog', 'frog', 'horse', 'ship', 'truck')"
      ],
      "execution_count": null,
      "outputs": []
    },
    {
      "cell_type": "markdown",
      "metadata": {
        "id": "1_qeXRDGtoFz"
      },
      "source": [
        "### I-3. Preview of a batch of training images"
      ]
    },
    {
      "cell_type": "code",
      "metadata": {
        "id": "zDZXg9EejKgs"
      },
      "source": [
        "def show_batch(batch):\n",
        "    im = torchvision.utils.make_grid(batch)\n",
        "    plt.imshow(np.transpose(im.numpy(), (1, 2, 0)))"
      ],
      "execution_count": null,
      "outputs": []
    },
    {
      "cell_type": "code",
      "metadata": {
        "colab": {
          "base_uri": "https://localhost:8080/",
          "height": 289
        },
        "id": "Nx2C-hYPt9YV",
        "outputId": "cb415d67-0f79-41f8-a2a7-938f70d9bbca"
      },
      "source": [
        "dataiter = iter(train_loader)\n",
        "images, labels = dataiter.next()\n",
        "\n",
        "print('Labels: ', labels)\n",
        "print('Batch shape: ', images.size())\n",
        "show_batch(images)"
      ],
      "execution_count": null,
      "outputs": [
        {
          "output_type": "stream",
          "text": [
            "Clipping input data to the valid range for imshow with RGB data ([0..1] for floats or [0..255] for integers).\n"
          ],
          "name": "stderr"
        },
        {
          "output_type": "stream",
          "text": [
            "Labels:  tensor([5, 9, 7, 2, 1, 8, 1, 7, 3, 0, 6, 4, 2, 6, 9, 2, 9, 3, 4, 6, 8, 3, 2, 6,\n",
            "        4, 2, 3, 8, 2, 9, 9, 6])\n",
            "Batch shape:  torch.Size([32, 3, 224, 224])\n"
          ],
          "name": "stdout"
        },
        {
          "output_type": "display_data",
          "data": {
            "image/png": "[encoded data removed]",
            "text/plain": [
              "<Figure size 432x288 with 1 Axes>"
            ]
          },
          "metadata": {
            "tags": [],
            "needs_background": "light"
          }
        }
      ]
    },
    {
      "cell_type": "markdown",
      "metadata": {
        "id": "JmpTmRGJzq_F"
      },
      "source": [
        "##II. Model Building"
      ]
    },
    {
      "cell_type": "code",
      "metadata": {
        "id": "ndveG8FaA08z",
        "colab": {
          "base_uri": "https://localhost:8080/"
        },
        "outputId": "ce07f76c-f025-4687-896d-9e6eddaeb548"
      },
      "source": [
        "use_cuda = torch.cuda.is_available()\n",
        "device = torch.device(\"cuda\" if use_cuda else \"cpu\")\n",
        "save_model = True\n",
        "device"
      ],
      "execution_count": null,
      "outputs": [
        {
          "output_type": "execute_result",
          "data": {
            "text/plain": [
              "device(type='cuda')"
            ]
          },
          "metadata": {
            "tags": []
          },
          "execution_count": 11
        }
      ]
    },
    {
      "cell_type": "code",
      "metadata": {
        "id": "kpGrzhaev8gN"
      },
      "source": [
        "import torch.nn as nn\n",
        "import torch.nn.functional as F\n",
        "import torch.optim as optim\n",
        "import torch.optim.lr_scheduler as lr_scheduler"
      ],
      "execution_count": null,
      "outputs": []
    },
    {
      "cell_type": "markdown",
      "metadata": {
        "id": "3e8o9O6PA4p0"
      },
      "source": [
        "### II-0 Optimization setting"
      ]
    },
    {
      "cell_type": "code",
      "metadata": {
        "id": "fDWOiqmQ-Awa"
      },
      "source": [
        "lr = 0.001\n",
        "momentum = 0.9\n",
        "wd = 0.0005"
      ],
      "execution_count": null,
      "outputs": []
    },
    {
      "cell_type": "code",
      "metadata": {
        "id": "MLtUsisl2By2"
      },
      "source": [
        "criterion = nn.CrossEntropyLoss()\n",
        "def optimization(model, momentum, wd, lr, opti = \"SGD\"):\n",
        "    if opti == \"Adam\":\n",
        "        optimizer = optim.Adam(model.parameters(), weight_decay=wd,lr=lr)\n",
        "    else:\n",
        "        optimizer = optim.SGD(model.parameters(), momentum=momentum, weight_decay=wd,lr=lr)\n",
        "    scheduler = lr_scheduler.ReduceLROnPlateau(optimizer, mode='min', patience=0, verbose=True)\n",
        "    return optimizer, scheduler"
      ],
      "execution_count": null,
      "outputs": []
    },
    {
      "cell_type": "markdown",
      "metadata": {
        "id": "RWhISsQh0UP2"
      },
      "source": [
        "###II-1 **Clairvoyance 1**: Simple Perceptron "
      ]
    },
    {
      "cell_type": "code",
      "metadata": {
        "id": "433pGFfdDQcY"
      },
      "source": [
        "class Clairvoyance_1(nn.Module):\n",
        "    def __init__(self, input_size, num_class):\n",
        "        super(Clairvoyance_1, self).__init__()\n",
        "        self.fc = nn.Linear(input_size, num_class)\n",
        "        self.sigmoid = torch.nn.Sigmoid() \n",
        "        # use sigmoid function as the activation function\n",
        "    def forward(self, x):\n",
        "        x = torch.flatten(x, 1)\n",
        "        output = self.fc(x)\n",
        "        output = self.sigmoid(output) \n",
        "        return output"
      ],
      "execution_count": null,
      "outputs": []
    },
    {
      "cell_type": "code",
      "metadata": {
        "id": "DDEhNB7FDQkz"
      },
      "source": [
        "model_CV1 = Clairvoyance_1(input_size=3*224*224, num_class=10)\n",
        "model_CV1 = model_CV1.to(device)\n",
        "optimizer_CV1, criterion_CV1, scheduler_CV1 = optimization (model_CV1, momentum, wd, lr)"
      ],
      "execution_count": null,
      "outputs": []
    },
    {
      "cell_type": "markdown",
      "metadata": {
        "id": "GN2WnIqZ0ZYV"
      },
      "source": [
        "###II-2 **Clairvoyance 2**: AlexNet"
      ]
    },
    {
      "cell_type": "markdown",
      "metadata": {
        "id": "Ztcg-jbjyyxY"
      },
      "source": [
        "Modified AlexNet implementation based on the original AlexNet model which is trained on two GPUs (https://papers.nips.cc/paper/2012/file/c399862d3b9d6b76c8436e924a68c45b-Paper.pdf):    \n",
        "<br> Convolutional layers <br>\n",
        "1. CONV (96, $11\\times11$, stride=4, pad=4) + BN + ReLU + MaxPool($3\\times3$, stride=2) \n",
        "2. CONV (256, $5\\times5$, stride=1, pad=2) + BN + ReLU + MaxPool($3\\times3$, stride=2)    \n",
        "3. CONV (384, $3\\times3$, stride=1, pad=1) + BN + ReLU\n",
        "4. CONV (384, $3\\times3$, stride=1, pad=1) + BN + ReLU\n",
        "5. CONV (256, $3\\times3$, stride=1, pad=1) + BN + ReLU + MaxPool($3\\times3$, stride=2) \n",
        "\n",
        "<br> Fully connected layers <br>\n",
        "6. Dropout (0.5) + FC (4096 neurons) + ReLU  \n",
        "7. Dropout (0.5)+ FC (4096 neurons) + ReLU \n",
        "8. FC: output = num_classes  "
      ]
    },
    {
      "cell_type": "code",
      "metadata": {
        "id": "qOG3zHIK2rCp"
      },
      "source": [
        "class Clairvoyance_2(nn.Module):\n",
        "  def __init__(self, num_classes=10):\n",
        "    super(Clairvoyance_2, self).__init__()\n",
        "    self.convs = nn.Sequential(\n",
        "        # 1st conv\n",
        "        nn.Conv2d(in_channels=3, out_channels=96, kernel_size=11, stride=4, padding=4),\n",
        "        nn.BatchNorm2d(96),\n",
        "        nn.ReLU(inplace=True),\n",
        "        nn.MaxPool2d(kernel_size=3, stride=2),\n",
        "        \n",
        "        # 2nd conv\n",
        "        nn.Conv2d(in_channels=96, out_channels=256, kernel_size=5, padding=2),\n",
        "        nn.BatchNorm2d(256),\n",
        "        nn.ReLU(inplace=True),\n",
        "        nn.MaxPool2d(kernel_size=3, stride=2),\n",
        "\n",
        "        # 3rd conv\n",
        "        nn.Conv2d(in_channels=256, out_channels=384, kernel_size=3, padding=1),\n",
        "        nn.BatchNorm2d(384),\n",
        "        nn.ReLU(inplace=True),\n",
        "\n",
        "        # 4th conv\n",
        "        nn.Conv2d(in_channels=384, out_channels=384, kernel_size=3, padding=1),\n",
        "        nn.BatchNorm2d(384),\n",
        "        nn.ReLU(inplace=True),\n",
        "\n",
        "        # 5th conv\n",
        "        nn.Conv2d(in_channels=384, out_channels=256, kernel_size=3, padding=1),\n",
        "        nn.BatchNorm2d(256),\n",
        "        nn.ReLU(inplace=True),\n",
        "        nn.MaxPool2d(kernel_size=3, stride=2)\n",
        "      )\n",
        "    self.avgpool = nn.AdaptiveAvgPool2d((6,6))\n",
        "\n",
        "    self.fcs = nn.Sequential(\n",
        "        # FC1\n",
        "        nn.Dropout(0.5),\n",
        "        nn.Linear(256 * 6 * 6, 4096),\n",
        "        nn.ReLU(inplace=True),\n",
        "        \n",
        "        # FC2\n",
        "        nn.Dropout(0.5),\n",
        "        nn.Linear(4096, 4096),\n",
        "        nn.ReLU(inplace=True),\n",
        "        \n",
        "        # FC3\n",
        "        nn.Linear(4096, num_classes)\n",
        "    )\n",
        "\n",
        "  def forward(self, x):\n",
        "    x = self.convs(x)\n",
        "    x = self.avgpool(x)\n",
        "    x = torch.flatten(x, 1)\n",
        "    x = self.fcs(x)\n",
        "    x = F.log_softmax(x, dim=1) # log_softmax addded\n",
        "    return x"
      ],
      "execution_count": null,
      "outputs": []
    },
    {
      "cell_type": "code",
      "metadata": {
        "id": "oxOmLBs9NDDg"
      },
      "source": [
        "model_CV2 = Clairvoyance_2(num_classes=len(classes))\n",
        "model_CV2 = model_CV2.to(device)\n",
        "optimizer_CV2, criterion_CV2, scheduler_CV2 = optimization (model_CV2, momentum, wd, lr)"
      ],
      "execution_count": null,
      "outputs": []
    },
    {
      "cell_type": "markdown",
      "metadata": {
        "id": "jYZROHUXBaXE"
      },
      "source": [
        "###II-3 **Clairvoyance 3**: VGG"
      ]
    },
    {
      "cell_type": "code",
      "metadata": {
        "id": "mH0vSG6hL8l3"
      },
      "source": [
        "def _make_features(arch):\n",
        "    features = []\n",
        "\n",
        "    last_nchannels = 3 # in_channels=3 initially\n",
        "    for nlayers, nchannels in zip(*arch):\n",
        "        for _ in range(nlayers):\n",
        "            features.append(nn.Conv2d(in_channels=last_nchannels, out_channels=nchannels,\n",
        "                                   kernel_size=3,\n",
        "                                   padding=1))\n",
        "            features.append(nn.BatchNorm2d(nchannels))\n",
        "            features.append(nn.ReLU(inplace=True))\n",
        "            last_nchannels = nchannels\n",
        "        features.append(nn.MaxPool2d(kernel_size=2, stride=2))\n",
        "\n",
        "    return nn.Sequential(*features), last_nchannels"
      ],
      "execution_count": null,
      "outputs": []
    },
    {
      "cell_type": "code",
      "metadata": {
        "id": "iFgRBBx8L8tB"
      },
      "source": [
        "class VGG(nn.Module):\n",
        "    def __init__(self, arch, nclasses=10, **kwargs):\n",
        "        super(VGG, self).__init__(**kwargs)\n",
        "\n",
        "        # first 5 blocks depending on architectures\n",
        "        self.convs, last_nchannels = _make_features(arch)\n",
        "\n",
        "        self.avgpool = nn.AdaptiveAvgPool2d((7,7))\n",
        "\n",
        "        self.fcs = nn.Sequential(\n",
        "            # FC1\n",
        "            nn.Linear(last_nchannels * 7 * 7, 4096),\n",
        "            nn.ReLU(inplace=True),\n",
        "            nn.Dropout(0.5),\n",
        "            \n",
        "            # FC2\n",
        "            nn.Linear(4096, 4096),\n",
        "            nn.ReLU(inplace=True),\n",
        "            nn.Dropout(0.5),\n",
        "            \n",
        "            # FC3\n",
        "            nn.Linear(4096, nclasses)\n",
        "        )\n",
        "\n",
        "    def forward(self, x):\n",
        "        x = self.convs(x)\n",
        "        x = self.avgpool(x)\n",
        "        x = torch.flatten(x, 1)\n",
        "        x = self.fcs(x)\n",
        "        x = F.log_softmax(x, dim=1) # log_softmax addded\n",
        "        return x\n"
      ],
      "execution_count": null,
      "outputs": []
    },
    {
      "cell_type": "code",
      "metadata": {
        "id": "hA6omUpfMIk2"
      },
      "source": [
        "vgg_archs = {\n",
        "    11: ([1, 1, 2, 2, 2], [64, 128, 256, 512, 512]),\n",
        "    13: ([2, 2, 2, 2, 2], [64, 128, 256, 512, 512]),\n",
        "    16: ([2, 2, 3, 3, 3], [64, 128, 256, 512, 512]),\n",
        "    19: ([2, 2, 4, 4, 4], [64, 128, 256, 512, 512]),\n",
        "}\n",
        "\n",
        "\n",
        "def _make_vgg(nlayers, nclasses=10):\n",
        "    return VGG(vgg_archs[nlayers], nclasses)\n",
        "\n",
        "\n",
        "def VGG11(nclasses=10):\n",
        "    return _make_vgg(11, nclasses)\n",
        "\n",
        "\n",
        "def VGG13(nclasses=10):\n",
        "    return _make_vgg(13, nclasses)\n",
        "\n",
        "\n",
        "def VGG16(nclasses=10):\n",
        "    return _make_vgg(16, nclasses)\n",
        "\n",
        "\n",
        "def VGG19(nclasses=10):\n",
        "    return _make_vgg(19, nclasses)"
      ],
      "execution_count": null,
      "outputs": []
    },
    {
      "cell_type": "code",
      "metadata": {
        "id": "ISfh2BnpMIuq"
      },
      "source": [
        "model_CV3 = VGG11()\n",
        "model_CV3 = model_CV3.to(device)\n",
        "optimizer_CV3, criterion_CV3, scheduler_CV3 = optimization(model_CV3, momentum, wd, lr)"
      ],
      "execution_count": null,
      "outputs": []
    },
    {
      "cell_type": "markdown",
      "metadata": {
        "id": "fYrngb6UBagN"
      },
      "source": [
        "###II-4 **Clairvoyance 4**: ResNet"
      ]
    },
    {
      "cell_type": "markdown",
      "metadata": {
        "id": "MiJSjSkGvksw"
      },
      "source": [
        "#### Basic block"
      ]
    },
    {
      "cell_type": "markdown",
      "metadata": {
        "id": "KSCnZHYtvokm"
      },
      "source": [
        "Architecture:  \n",
        "CONV2D(kernel size = 3*3, n filters = X) + BN + ReLU + CONV2D(kernel size = 3*3, n filters = X) + BN + (identity mapping) + ReLU"
      ]
    },
    {
      "cell_type": "code",
      "metadata": {
        "id": "8Rnk9gVYwbfa"
      },
      "source": [
        "class BasicBlock(nn.Module):\n",
        "  \n",
        "  def __init__(self, in_channel, out_channel, downsample=False, strides=1, **kwargs):\n",
        "    \n",
        "    super(BasicBlock, self).__init__(**kwargs)\n",
        "\n",
        "    self.relu = nn.ReLU()\n",
        "\n",
        "    self.block = nn.Sequential(\n",
        "        nn.Conv2d(in_channels=in_channel,\n",
        "                  out_channels=out_channel,\n",
        "                  kernel_size=3,\n",
        "                  stride=strides,\n",
        "                  padding=1\n",
        "                  ),\n",
        "        nn.BatchNorm2d(out_channel),\n",
        "        nn.ReLU(),\n",
        "\n",
        "        nn.Conv2d(in_channels=out_channel, \n",
        "                  out_channels=out_channel,\n",
        "                  kernel_size=3,\n",
        "                  padding=1),\n",
        "        nn.BatchNorm2d(out_channel)\n",
        "    )\n",
        "\n",
        "    if downsample:\n",
        "      self.shortcut = nn.Conv2d(in_channels=in_channel,\n",
        "                                out_channels=out_channel,\n",
        "                                kernel_size=1,\n",
        "                                stride=strides)\n",
        "    else:\n",
        "      self.shortcut = None\n",
        "    \n",
        "  def forward(self,x):\n",
        "    y = self.block(x)\n",
        "\n",
        "    if self.shortcut:\n",
        "      x = self.shortcut(x)\n",
        "\n",
        "    return self.relu(y+x)"
      ],
      "execution_count": null,
      "outputs": []
    },
    {
      "cell_type": "markdown",
      "metadata": {
        "id": "VZrGfcce4DOr"
      },
      "source": [
        "#### BottleNeck Block"
      ]
    },
    {
      "cell_type": "markdown",
      "metadata": {
        "id": "Ho4q4fHW4JJy"
      },
      "source": [
        "Difference between the basic block and the bottlenet block:  \n",
        "Use a stack of 3 layers instead of 2. The three layers are 1$\\times$1, 3$\\times$3 and 1$\\times$1 convolutions, where the 1$\\times$1 layers are responsible for reducing and then increasing (restoring) dimensions, leaving the 3$\\times$3 layer a bottleneck with smaller input/output dimensions."
      ]
    },
    {
      "cell_type": "code",
      "metadata": {
        "id": "CBAwTDKx4tsn"
      },
      "source": [
        "class BottleNeckBlock(nn.Module):\n",
        "  \n",
        "  def __init__(self, in_channel, out_channel, downsample=False, strides=1, **kwargs):\n",
        "\n",
        "    super(BottleNeckBlock, self).__init__(**kwargs)\n",
        "\n",
        "    self.relu = nn.ReLU()\n",
        "\n",
        "    self.mid_channel = out_channel//4\n",
        "\n",
        "    self.block = nn.Sequential(\n",
        "        nn.Conv2d(in_channels=in_channel,\n",
        "                  out_channels=self.mid_channel,\n",
        "                  kernel_size=1,\n",
        "                  stride=strides),\n",
        "        nn.BatchNorm2d(self.mid_channel),\n",
        "        nn.ReLU(),\n",
        "        nn.Conv2d(in_channels=self.mid_channel,\n",
        "                  out_channels=self.mid_channel,\n",
        "                  kernel_size=3,\n",
        "                  stride=1,\n",
        "                  padding=1),\n",
        "        nn.BatchNorm2d(self.mid_channel),\n",
        "        nn.ReLU(),\n",
        "        nn.Conv2d(in_channels=self.mid_channel,\n",
        "                  out_channels=out_channel,\n",
        "                  kernel_size=1),\n",
        "        nn.BatchNorm2d(out_channel)\n",
        "    )\n",
        "\n",
        "    if downsample:\n",
        "      self.shortcut = nn.Conv2d(in_channels=in_channel,\n",
        "                                out_channels=out_channel,\n",
        "                                kernel_size=1,\n",
        "                                stride=strides)\n",
        "    else:\n",
        "      self.shortcut = None\n",
        "    \n",
        "  def forward(self, x):\n",
        "    \n",
        "    y = self.block(x)\n",
        "\n",
        "    if self.shortcut:\n",
        "      x = self.shortcut(x)\n",
        "\n",
        "    return self.relu(y+x)"
      ],
      "execution_count": null,
      "outputs": []
    },
    {
      "cell_type": "markdown",
      "metadata": {
        "id": "mNA2RB_cJJW9"
      },
      "source": [
        "#### Overall architecture"
      ]
    },
    {
      "cell_type": "code",
      "metadata": {
        "id": "LgBPD-Le82re"
      },
      "source": [
        "def _make_layer(block, nblocks, in_channels, out_channels, strides):\n",
        "\n",
        "  layers = []\n",
        "\n",
        "  layers.append(block(in_channels, out_channels, out_channels != in_channels, strides))\n",
        "  for _ in range(nblocks - 1):\n",
        "    layers.append(block(out_channels, out_channels, False))\n",
        "  \n",
        "  return nn.Sequential(*layers)"
      ],
      "execution_count": null,
      "outputs": []
    },
    {
      "cell_type": "code",
      "metadata": {
        "id": "cRviBuHOXZYh"
      },
      "source": [
        "class ResNet(nn.Module):\n",
        "  def __init__(self, block, layers, channels, nclasses):\n",
        "    super(ResNet, self).__init__()\n",
        "\n",
        "    net = []\n",
        "\n",
        "    # first layers: CONV[7*7, 64, stride 2] + [3*3 max pool, stride 2] (original paper)\n",
        "\n",
        "    net.append(nn.Conv2d(in_channels=3,\n",
        "                    out_channels=64,\n",
        "                    kernel_size=3,\n",
        "                    stride=1,\n",
        "                    padding=1))\n",
        "    net.append(nn.BatchNorm2d(64))\n",
        "    net.append(nn.ReLU())\n",
        "    net.append(nn.MaxPool2d(kernel_size=3,\n",
        "                      stride=2,\n",
        "                      padding=1))\n",
        "    \n",
        "    # ResNet layers\n",
        "    for i, nblocks in enumerate(layers):\n",
        "      strides = 1 if i == 0 else 2\n",
        "      net.append(_make_layer(block, nblocks, channels[i], channels[i+1], strides))\n",
        "\n",
        "    net.append(nn.BatchNorm2d(channels[i+1]))\n",
        "    net.append(nn.ReLU())\n",
        "    net.append(nn.AdaptiveAvgPool2d((1,1)))\n",
        "\n",
        "    self.net = nn.Sequential(*net)\n",
        "    self.fc = nn.Linear(channels[i+1], nclasses)\n",
        "  \n",
        "  def forward(self, x):\n",
        "    x = self.net(x)\n",
        "    x = x.view(x.size(0), -1)\n",
        "    x = self.fc(x)\n",
        "\n",
        "    return x"
      ],
      "execution_count": null,
      "outputs": []
    },
    {
      "cell_type": "code",
      "metadata": {
        "id": "isIy7QGoMiun"
      },
      "source": [
        "resnet_architecture = {\n",
        "    18: [BasicBlock, [2, 2, 2, 2], [64, 64, 128, 256, 512]],\n",
        "    34: [BasicBlock, [3, 4, 6, 3], [64, 64, 128, 256, 512]],\n",
        "    50: [BottleNeckBlock, [3, 4, 6, 3], [64, 256, 512, 1024, 2048]],\n",
        "    101: [BottleNeckBlock, [3, 4, 23, 3], [64, 256, 512, 1024, 2048]],\n",
        "    152: [BottleNeckBlock, [3, 8, 36, 3], [64, 256, 512, 1024, 2048]]\n",
        "}"
      ],
      "execution_count": null,
      "outputs": []
    },
    {
      "cell_type": "code",
      "metadata": {
        "id": "9Zu6IN_gROVv"
      },
      "source": [
        "def ResNet18(nclasses):\n",
        "  return ResNet(*resnet_architecture[18], nclasses)\n",
        "\n",
        "def ResNet34(nclasses):\n",
        "  return ResNet(*resnet_architecture[34], nclasses)\n",
        "\n",
        "def ResNet50(nclasses):\n",
        "  return ResNet(*resnet_architecture[50], nclasses)\n",
        "\n",
        "def ResNet101(nclasses):\n",
        "  return ResNet(*resnet_architecture[101], nclasses)\n",
        "\n",
        "def ResNet152(nclasses):\n",
        "  return ResNet(*resnet_architecture[152], nclasses)"
      ],
      "execution_count": null,
      "outputs": []
    },
    {
      "cell_type": "markdown",
      "metadata": {
        "id": "GIRCyQ8nZUwX"
      },
      "source": [
        "####Intialization"
      ]
    },
    {
      "cell_type": "code",
      "metadata": {
        "id": "E2LGla90F6gb"
      },
      "source": [
        "model_resnet18 = ResNet18(len(classes))\n",
        "model_resnet18 = model_resnet18.to(device)\n",
        "optimizer_resnet = optim.SGD(model_resnet18.parameters(),\n",
        "                             lr=lr,\n",
        "                             momentum=momentum,\n",
        "                             weight_decay=wd)\n",
        "criterion_resnet = nn.CrossEntropyLoss()\n",
        "scheduler_resnet = optim.lr_scheduler.ReduceLROnPlateau(optimizer_resnet, mode='min', patience=1, verbose=True)"
      ],
      "execution_count": null,
      "outputs": []
    },
    {
      "cell_type": "markdown",
      "metadata": {
        "id": "UaKXgDcFV2eJ"
      },
      "source": [
        "###II-4 **Clairvoyance 5**: DenseNet"
      ]
    },
    {
      "cell_type": "code",
      "metadata": {
        "id": "Afkhq9uIV-ja"
      },
      "source": [
        "import torch.nn as nn\n",
        "import torch.nn.functional as F\n",
        "from collections import OrderedDict\n",
        "class _DenseLayer(nn.Module):\n",
        "    def __init__(\n",
        "        self,\n",
        "        num_input_features,\n",
        "        growth_rate,\n",
        "        bn_size\n",
        "    ):\n",
        "        super(_DenseLayer, self).__init__()\n",
        "        self.add_module('norm1', nn.BatchNorm2d(num_input_features))\n",
        "        self.add_module('relu1', nn.ReLU(inplace=True))\n",
        "        self.add_module('conv1', nn.Conv2d(num_input_features, bn_size *\n",
        "                                           growth_rate, kernel_size=1, stride=1,\n",
        "                                           bias=False))\n",
        "        self.add_module('norm2', nn.BatchNorm2d(bn_size * growth_rate))\n",
        "        self.add_module('relu2', nn.ReLU(inplace=True))\n",
        "        self.add_module('conv2', nn.Conv2d(bn_size * growth_rate, growth_rate,\n",
        "                                           kernel_size=3, stride=1, padding=1,\n",
        "                                           bias=False))\n",
        "\n",
        "    def bn_function(self, inputs):\n",
        "        concated_features = torch.cat(inputs, 1)\n",
        "        bottleneck_output = self.conv1(self.relu1(self.norm1(concated_features)))\n",
        "        return bottleneck_output\n",
        "\n",
        "    def forward(self, input):  \n",
        "        bottleneck_output = self.bn_function(input)\n",
        "        new_features = self.conv2(self.relu2(self.norm2(bottleneck_output)))\n",
        "        return new_features"
      ],
      "execution_count": null,
      "outputs": []
    },
    {
      "cell_type": "code",
      "metadata": {
        "id": "K5VGhwekWCWM"
      },
      "source": [
        "class _DenseBlock(nn.ModuleDict):\n",
        "    def __init__(\n",
        "        self,\n",
        "        num_layers,\n",
        "        num_input_features,\n",
        "        bn_size,\n",
        "        growth_rate\n",
        "    ):\n",
        "        super(_DenseBlock, self).__init__()\n",
        "        for i in range(num_layers):\n",
        "            layer = _DenseLayer(\n",
        "                num_input_features + i * growth_rate,\n",
        "                growth_rate=growth_rate,\n",
        "                bn_size=bn_size\n",
        "            )\n",
        "            self.add_module('denselayer%d' % (i + 1), layer)\n",
        "\n",
        "    def forward(self, init_features):\n",
        "        features = [init_features]\n",
        "        for name, layer in self.items():\n",
        "            new_features = layer(features)\n",
        "            features.append(new_features)\n",
        "        return torch.cat(features, 1)"
      ],
      "execution_count": null,
      "outputs": []
    },
    {
      "cell_type": "code",
      "metadata": {
        "id": "whepDbZ1WEn-"
      },
      "source": [
        "class _Transition(nn.Sequential):\n",
        "    def __init__(self, num_input_features, num_output_features):\n",
        "        super(_Transition, self).__init__()\n",
        "        self.add_module('norm', nn.BatchNorm2d(num_input_features))\n",
        "        self.add_module('relu', nn.ReLU(inplace=True))\n",
        "        self.add_module('conv', nn.Conv2d(num_input_features, num_output_features,\n",
        "                                          kernel_size=1, stride=1, bias=False))\n",
        "        self.add_module('pool', nn.AvgPool2d(kernel_size=2, stride=2))"
      ],
      "execution_count": null,
      "outputs": []
    },
    {
      "cell_type": "code",
      "metadata": {
        "id": "7Z-yspYCWG49"
      },
      "source": [
        "class DenseNet(nn.Module):\n",
        "    def __init__(\n",
        "        self,\n",
        "        num_init_features,# : int = 64,\n",
        "        growth_rate, #: int = 32,\n",
        "        block_config,#: Tuple[int, int, int, int] = (6, 12, 24, 16), #: int = 64,\n",
        "        bn_size=2,\n",
        "        num_classes = 10,\n",
        "        **kwargs\n",
        "    ):\n",
        "        super(DenseNet, self).__init__()\n",
        "\n",
        "        # First convolution\n",
        "        self.features = nn.Sequential(OrderedDict([\n",
        "            ('conv0', nn.Conv2d(3, num_init_features, kernel_size=7, stride=2,\n",
        "                                padding=3, bias=False)),\n",
        "            ('norm0', nn.BatchNorm2d(num_init_features)),\n",
        "            ('relu0', nn.ReLU(inplace=True)),\n",
        "            ('pool0', nn.MaxPool2d(kernel_size=3, stride=2, padding=1)),\n",
        "        ]))\n",
        "\n",
        "        # Each denseblock\n",
        "        num_features = num_init_features\n",
        "        for i, num_layers in enumerate(block_config):\n",
        "            block = _DenseBlock(\n",
        "                num_layers=num_layers,\n",
        "                num_input_features=num_features,\n",
        "                bn_size=bn_size,\n",
        "                growth_rate=growth_rate\n",
        "            )\n",
        "            self.features.add_module('denseblock%d' % (i + 1), block)\n",
        "            num_features = num_features + num_layers * growth_rate\n",
        "            if i != len(block_config) - 1:\n",
        "                trans = _Transition(num_input_features=num_features,\n",
        "                                    num_output_features=num_features // 2)\n",
        "                self.features.add_module('transition%d' % (i + 1), trans)\n",
        "                num_features = num_features // 2\n",
        "\n",
        "        # Final batch norm\n",
        "        self.features.add_module('norm5', nn.BatchNorm2d(num_features))\n",
        "\n",
        "        # Linear layer\n",
        "        self.classifier = nn.Linear(num_features, num_classes)\n",
        "\n",
        "    def forward(self, x):\n",
        "        features = self.features(x)\n",
        "        out = F.relu(features, inplace=True)\n",
        "        out = F.adaptive_avg_pool2d(out, (1, 1))\n",
        "        out = torch.flatten(out, 1)\n",
        "        out = self.classifier(out)\n",
        "        return out"
      ],
      "execution_count": null,
      "outputs": []
    },
    {
      "cell_type": "code",
      "metadata": {
        "id": "j_wqYhwSWKsp"
      },
      "source": [
        "densenet_archs = {\n",
        "    121: [64, 32, [6, 12, 24, 16]],\n",
        "    161: [96, 48, [6, 12, 36, 24]],\n",
        "    169: [64, 32, [6, 12, 32, 32]],\n",
        "    201: [64, 32, [6, 12, 48, 32]]\n",
        "}\n",
        "\n",
        "\n",
        "def DenseNet121(nclasses):\n",
        "    return DenseNet(*densenet_archs[121], nclasses)\n",
        "\n",
        "\n",
        "def DenseNet161(nclasses):\n",
        "    return DenseNet(*densenet_archs[161], nclasses)\n",
        "\n",
        "\n",
        "def DenseNet169(nclasses):\n",
        "    return DenseNet(*densenet_archs[169], nclasses)\n",
        "\n",
        "\n",
        "def DenseNet201(nclasses):\n",
        "    return DenseNet(*densenet_archs[201], nclasses)"
      ],
      "execution_count": null,
      "outputs": []
    },
    {
      "cell_type": "code",
      "metadata": {
        "id": "hDp77F6kWNMK"
      },
      "source": [
        "model_Dense = DenseNet121(nclasses=len(classes))\n",
        "model_Dense = model_Dense.to(device)\n",
        "optimizer_Dense, criterion_Dense, scheduler_Dense = optimization(model_Dense, momentum, wd, lr)"
      ],
      "execution_count": null,
      "outputs": []
    },
    {
      "cell_type": "markdown",
      "metadata": {
        "id": "zQ8wcQQ-0KNT"
      },
      "source": [
        "##III.Training and Testing"
      ]
    },
    {
      "cell_type": "code",
      "metadata": {
        "id": "INe0OZwKZR7w"
      },
      "source": [
        "from sklearn.metrics import f1_score\n",
        "import matplotlib.cm as cm\n",
        "import matplotlib.pyplot as plt\n",
        "\n",
        "epochs_ES = 100\n",
        "epochs = 10"
      ],
      "execution_count": null,
      "outputs": []
    },
    {
      "cell_type": "markdown",
      "metadata": {
        "id": "hp53eHQPNqVj"
      },
      "source": [
        "### III-0 Training and testing functions"
      ]
    },
    {
      "cell_type": "code",
      "metadata": {
        "id": "voOI0-8q3Yv0"
      },
      "source": [
        "def train(model, device, train_loader, optimizer, loss_fcn, epoch, log_interval):\n",
        "    model.train()\n",
        "    loss_list_per_epoch = []\n",
        "    for batch_idx, (data, target) in enumerate(train_loader):\n",
        "\n",
        "        data, target = data.to(device), target.to(device)\n",
        "        # set gradients to zero\n",
        "        optimizer.zero_grad()\n",
        "        outputs = model(data)\n",
        "        outputs = torch.exp(outputs)\n",
        "        loss = loss_fcn(outputs, target)\n",
        "\n",
        "        # Backward\n",
        "        loss.backward()\n",
        "\n",
        "        # update parameters\n",
        "        optimizer.step()\n",
        "\n",
        "        if batch_idx % log_interval == 0:\n",
        "            print('Train Epoch: {} [{}/{} ({:.0f}%)]\\tLoss: {:.6f}'.format(\n",
        "                epoch, batch_idx * len(data), len(train_loader.dataset),\n",
        "                100. * batch_idx / len(train_loader), loss.item()))\n",
        "        loss_list_per_epoch.append(loss.data)\n",
        "\n",
        "    return loss_list_per_epoch"
      ],
      "execution_count": null,
      "outputs": []
    },
    {
      "cell_type": "code",
      "metadata": {
        "id": "y4-XSc3WyJ55"
      },
      "source": [
        "class EarlyStopping:\n",
        "    def __init__(self, patience=7, verbose=False, delta=0, path='ES_checkpoint.pt', trace_func=print):\n",
        "        self.patience = patience\n",
        "        self.verbose = verbose\n",
        "        self.counter = 0\n",
        "        self.best_score = None\n",
        "        self.early_stop = False\n",
        "        self.val_loss_min = np.Inf\n",
        "        self.delta = delta\n",
        "        self.path = path\n",
        "        self.trace_func = trace_func\n",
        "    def __call__(self, val_loss, model):\n",
        "\n",
        "        score = -val_loss\n",
        "\n",
        "        if self.best_score is None:\n",
        "            self.best_score = score\n",
        "            self.save_ES_checkpoint(val_loss, model)\n",
        "        elif score <= self.best_score + self.delta:\n",
        "            self.counter += 1\n",
        "            self.trace_func(f'EarlyStopping counter: {self.counter} out of {self.patience}')\n",
        "            if self.counter >= self.patience:\n",
        "                self.early_stop = True\n",
        "        else:\n",
        "            self.best_score = score\n",
        "            self.save_ES_checkpoint(val_loss, model)\n",
        "            self.counter = 0\n",
        "\n",
        "    def save_ES_checkpoint(self, val_loss, model):\n",
        "        if self.verbose:\n",
        "            self.trace_func(f'Validation loss decreased ({self.val_loss_min:.6f} --> {val_loss:.6f}).  Saving model ...')\n",
        "        torch.save(model.state_dict(), self.path)\n",
        "        self.val_loss_min = val_loss"
      ],
      "execution_count": null,
      "outputs": []
    },
    {
      "cell_type": "code",
      "metadata": {
        "id": "l-XUdyoe4tVU"
      },
      "source": [
        "def test(model, device, loss_fcn, test_loader, test_batch_size):\n",
        "    model.eval()\n",
        "    test_loss = 0\n",
        "    correct = 0\n",
        "    with torch.no_grad():\n",
        "        for data, target in test_loader:\n",
        "          data, target = data.to(device), target.to(device)\n",
        "          outputs = model(data) # prediction\n",
        "          outputs = torch.exp(outputs)\n",
        "          _, predicted = torch.max(outputs.data, 1)\n",
        "          loss = loss_fcn(outputs, target)*test_batch_size\n",
        "          test_loss += loss\n",
        "          correct += (predicted == target).sum().item()           \n",
        "    test_loss /= len(test_loader.dataset)\n",
        "\n",
        "    print('\\nTest set: Average loss: {:.4f}, Accuracy: {}/{} ({:.0f}%)\\n'.format(\n",
        "        test_loss, correct, len(test_loader.dataset),\n",
        "        100. * correct / len(test_loader.dataset)))\n",
        "    return test_loss, 100. * correct / len(test_loader.dataset)"
      ],
      "execution_count": null,
      "outputs": []
    },
    {
      "cell_type": "code",
      "metadata": {
        "id": "_vPAEVJ2cOXt"
      },
      "source": [
        "def class_wise_test(model, device, loss_fnc, test_loader, n_class):\n",
        "  model.eval()\n",
        "  confusion_matrix = torch.zeros(n_class, n_class)\n",
        "  with torch.no_grad():\n",
        "    for data, target in test_loader:\n",
        "      data, target = data.to(device), target.to(device)\n",
        "      outputs = model(data)\n",
        "      _, predicted = torch.max(outputs.data, 1)\n",
        "      for t, p in zip(target.view(-1), predicted.view(-1)):\n",
        "        confusion_matrix[t.long(), p.long()] += 1\n",
        "  print(\"\\nCLass wise accuracy: {}\\n\".format(confusion_matrix.diag()/confusion_matrix.sum(1)))\n",
        "  print(\"\\nConfusion matrix: {}\\n\".format(confusion_matrix))\n",
        "  return confusion_matrix, confusion_matrix.diag()/confusion_matrix.sum(1)"
      ],
      "execution_count": null,
      "outputs": []
    },
    {
      "cell_type": "code",
      "metadata": {
        "id": "Cr_YJ829c3FD"
      },
      "source": [
        "def F1_score(test_loader, model):\n",
        "  n_class = 10\n",
        "  f1_score_micro_summary = []\n",
        "  f1_score_macro_summary = []\n",
        "  with torch.no_grad():\n",
        "    for data, target in test_loader:\n",
        "      data, target = data.to(device), target.to(device)\n",
        "      y = model(data)\n",
        "      y_final = torch.argmax(y, dim=1)\n",
        "      target = target.cpu().numpy().tolist()\n",
        "      y_final = y_final.cpu().numpy().tolist()\n",
        "      micro_ave = f1_score(target, y_final, labels = list(range(n_class)), average = \"micro\")\n",
        "      macro_ave = f1_score(target, y_final, labels = list(range(n_class)), average = \"macro\")\n",
        "      f1_score_micro_summary.append(micro_ave)\n",
        "      f1_score_macro_summary.append(macro_ave)\n",
        "\n",
        "  print(\"ave_micro_F1:\", sum(f1_score_micro_summary)/len(f1_score_micro_summary))\n",
        "  print(\"ave_macro_F1:\", sum(f1_score_macro_summary)/len(f1_score_macro_summary))\n",
        "  return"
      ],
      "execution_count": null,
      "outputs": []
    },
    {
      "cell_type": "markdown",
      "metadata": {
        "id": "p0Xo5X0XlAZ8"
      },
      "source": [
        "### III-2 Training and testing for CV2 with Early Stopping"
      ]
    },
    {
      "cell_type": "code",
      "metadata": {
        "id": "vqBFU6CczCFd",
        "colab": {
          "base_uri": "https://localhost:8080/"
        },
        "outputId": "7e8109ae-79c9-4bc2-a382-461f2cb1dad7"
      },
      "source": [
        "loss_list_CV2 = []\n",
        "val_accuracy_list_CV2 = []\n",
        "early_stopping = EarlyStopping(patience=1, verbose=True)\n",
        "for epoch in range(1, epochs + 1):\n",
        "    # train\n",
        "    loss_list_per_epoch = train(model_CV2, device, train_loader, optimizer_CV2, criterion_CV2, epoch, log_interval)\n",
        "    # inference on validation set \n",
        "    validation_loss, validation_accuracy= test(model_CV2, device, criterion_CV2, val_loader, val_batch_size)\n",
        "    scheduler_CV2.step(validation_loss)\n",
        "    # log loss and acc\n",
        "    loss_list_CV2.append(sum(loss_list_per_epoch)/len(loss_list_per_epoch))\n",
        "    val_accuracy_list_CV2.append(validation_accuracy/100)\n",
        "    early_stopping(validation_loss, model_CV2)\n",
        "    if early_stopping.early_stop:\n",
        "      print(\"Early stopping\")\n",
        "      break\n",
        "    model_CV2.load_state_dict(torch.load('ES_checkpoint.pt'))\n",
        "\n",
        "if save_model:\n",
        "    torch.save(model_CV2.state_dict(), \"CIFAR_CV2.pt\")"
      ],
      "execution_count": null,
      "outputs": [
        {
          "output_type": "stream",
          "text": [
            "Train Epoch: 1 [0/44000 (0%)]\tLoss: 2.296288\n",
            "Train Epoch: 1 [3200/44000 (7%)]\tLoss: 2.293002\n",
            "Train Epoch: 1 [6400/44000 (15%)]\tLoss: 2.306769\n",
            "Train Epoch: 1 [9600/44000 (22%)]\tLoss: 2.239993\n",
            "Train Epoch: 1 [12800/44000 (29%)]\tLoss: 2.183421\n",
            "Train Epoch: 1 [16000/44000 (36%)]\tLoss: 2.149536\n",
            "Train Epoch: 1 [19200/44000 (44%)]\tLoss: 2.149052\n",
            "Train Epoch: 1 [22400/44000 (51%)]\tLoss: 2.067385\n",
            "Train Epoch: 1 [25600/44000 (58%)]\tLoss: 2.068291\n",
            "Train Epoch: 1 [28800/44000 (65%)]\tLoss: 2.087118\n",
            "Train Epoch: 1 [32000/44000 (73%)]\tLoss: 2.114438\n",
            "Train Epoch: 1 [35200/44000 (80%)]\tLoss: 2.098652\n",
            "Train Epoch: 1 [38400/44000 (87%)]\tLoss: 2.072247\n",
            "Train Epoch: 1 [41600/44000 (95%)]\tLoss: 2.068602\n",
            "\n",
            "Test set: Average loss: 2.0090, Accuracy: 2701/6000 (45%)\n",
            "\n",
            "Validation loss decreased (inf --> 2.008952).  Saving model ...\n",
            "Train Epoch: 2 [0/44000 (0%)]\tLoss: 2.076296\n",
            "Train Epoch: 2 [3200/44000 (7%)]\tLoss: 1.966241\n",
            "Train Epoch: 2 [6400/44000 (15%)]\tLoss: 2.102378\n",
            "Train Epoch: 2 [9600/44000 (22%)]\tLoss: 2.073680\n",
            "Train Epoch: 2 [12800/44000 (29%)]\tLoss: 2.089942\n",
            "Train Epoch: 2 [16000/44000 (36%)]\tLoss: 2.110584\n",
            "Train Epoch: 2 [19200/44000 (44%)]\tLoss: 1.936964\n",
            "Train Epoch: 2 [22400/44000 (51%)]\tLoss: 1.960120\n",
            "Train Epoch: 2 [25600/44000 (58%)]\tLoss: 2.019503\n",
            "Train Epoch: 2 [28800/44000 (65%)]\tLoss: 1.913705\n",
            "Train Epoch: 2 [32000/44000 (73%)]\tLoss: 1.902619\n",
            "Train Epoch: 2 [35200/44000 (80%)]\tLoss: 2.051167\n",
            "Train Epoch: 2 [38400/44000 (87%)]\tLoss: 1.859808\n",
            "Train Epoch: 2 [41600/44000 (95%)]\tLoss: 1.871622\n",
            "\n",
            "Test set: Average loss: 1.9302, Accuracy: 3178/6000 (53%)\n",
            "\n",
            "Validation loss decreased (2.008952 --> 1.930217).  Saving model ...\n",
            "Train Epoch: 3 [0/44000 (0%)]\tLoss: 1.939758\n",
            "Train Epoch: 3 [3200/44000 (7%)]\tLoss: 1.853206\n",
            "Train Epoch: 3 [6400/44000 (15%)]\tLoss: 1.837774\n",
            "Train Epoch: 3 [9600/44000 (22%)]\tLoss: 1.839431\n",
            "Train Epoch: 3 [12800/44000 (29%)]\tLoss: 1.923542\n",
            "Train Epoch: 3 [16000/44000 (36%)]\tLoss: 1.792879\n",
            "Train Epoch: 3 [19200/44000 (44%)]\tLoss: 1.856775\n",
            "Train Epoch: 3 [22400/44000 (51%)]\tLoss: 1.856828\n",
            "Train Epoch: 3 [25600/44000 (58%)]\tLoss: 1.769357\n",
            "Train Epoch: 3 [28800/44000 (65%)]\tLoss: 1.750117\n",
            "Train Epoch: 3 [32000/44000 (73%)]\tLoss: 1.938602\n",
            "Train Epoch: 3 [35200/44000 (80%)]\tLoss: 1.788235\n",
            "Train Epoch: 3 [38400/44000 (87%)]\tLoss: 2.040437\n",
            "Train Epoch: 3 [41600/44000 (95%)]\tLoss: 1.911090\n",
            "\n",
            "Test set: Average loss: 1.8701, Accuracy: 3541/6000 (59%)\n",
            "\n",
            "Validation loss decreased (1.930217 --> 1.870136).  Saving model ...\n",
            "Train Epoch: 4 [0/44000 (0%)]\tLoss: 1.943773\n",
            "Train Epoch: 4 [3200/44000 (7%)]\tLoss: 1.919389\n",
            "Train Epoch: 4 [6400/44000 (15%)]\tLoss: 1.819412\n",
            "Train Epoch: 4 [9600/44000 (22%)]\tLoss: 1.755825\n",
            "Train Epoch: 4 [12800/44000 (29%)]\tLoss: 1.932488\n",
            "Train Epoch: 4 [16000/44000 (36%)]\tLoss: 1.858787\n",
            "Train Epoch: 4 [19200/44000 (44%)]\tLoss: 1.884441\n",
            "Train Epoch: 4 [22400/44000 (51%)]\tLoss: 1.923089\n",
            "Train Epoch: 4 [25600/44000 (58%)]\tLoss: 1.835002\n",
            "Train Epoch: 4 [28800/44000 (65%)]\tLoss: 1.899646\n",
            "Train Epoch: 4 [32000/44000 (73%)]\tLoss: 1.743229\n",
            "Train Epoch: 4 [35200/44000 (80%)]\tLoss: 1.804161\n",
            "Train Epoch: 4 [38400/44000 (87%)]\tLoss: 1.789484\n",
            "Train Epoch: 4 [41600/44000 (95%)]\tLoss: 1.860794\n",
            "\n",
            "Test set: Average loss: 1.8570, Accuracy: 3616/6000 (60%)\n",
            "\n",
            "Validation loss decreased (1.870136 --> 1.856986).  Saving model ...\n",
            "Train Epoch: 5 [0/44000 (0%)]\tLoss: 1.856829\n",
            "Train Epoch: 5 [3200/44000 (7%)]\tLoss: 1.795643\n",
            "Train Epoch: 5 [6400/44000 (15%)]\tLoss: 2.024556\n",
            "Train Epoch: 5 [9600/44000 (22%)]\tLoss: 1.767875\n",
            "Train Epoch: 5 [12800/44000 (29%)]\tLoss: 1.805959\n",
            "Train Epoch: 5 [16000/44000 (36%)]\tLoss: 1.972115\n",
            "Train Epoch: 5 [19200/44000 (44%)]\tLoss: 1.783513\n",
            "Train Epoch: 5 [22400/44000 (51%)]\tLoss: 1.879653\n",
            "Train Epoch: 5 [25600/44000 (58%)]\tLoss: 1.837165\n",
            "Train Epoch: 5 [28800/44000 (65%)]\tLoss: 1.789129\n",
            "Train Epoch: 5 [32000/44000 (73%)]\tLoss: 1.766517\n",
            "Train Epoch: 5 [35200/44000 (80%)]\tLoss: 1.779439\n",
            "Train Epoch: 5 [38400/44000 (87%)]\tLoss: 1.691064\n",
            "Train Epoch: 5 [41600/44000 (95%)]\tLoss: 1.913215\n",
            "\n",
            "Test set: Average loss: 1.8132, Accuracy: 3897/6000 (65%)\n",
            "\n",
            "Validation loss decreased (1.856986 --> 1.813181).  Saving model ...\n",
            "Train Epoch: 6 [0/44000 (0%)]\tLoss: 1.861121\n",
            "Train Epoch: 6 [3200/44000 (7%)]\tLoss: 1.684630\n",
            "Train Epoch: 6 [6400/44000 (15%)]\tLoss: 1.900613\n",
            "Train Epoch: 6 [9600/44000 (22%)]\tLoss: 1.810137\n",
            "Train Epoch: 6 [12800/44000 (29%)]\tLoss: 1.840731\n",
            "Train Epoch: 6 [16000/44000 (36%)]\tLoss: 1.769280\n",
            "Train Epoch: 6 [19200/44000 (44%)]\tLoss: 1.797242\n",
            "Train Epoch: 6 [22400/44000 (51%)]\tLoss: 1.762090\n",
            "Train Epoch: 6 [25600/44000 (58%)]\tLoss: 1.871860\n",
            "Train Epoch: 6 [28800/44000 (65%)]\tLoss: 1.821515\n",
            "Train Epoch: 6 [32000/44000 (73%)]\tLoss: 1.896809\n",
            "Train Epoch: 6 [35200/44000 (80%)]\tLoss: 1.799762\n",
            "Train Epoch: 6 [38400/44000 (87%)]\tLoss: 1.822135\n",
            "Train Epoch: 6 [41600/44000 (95%)]\tLoss: 1.946683\n",
            "\n",
            "Test set: Average loss: 1.8335, Accuracy: 3762/6000 (63%)\n",
            "\n",
            "Epoch     6: reducing learning rate of group 0 to 1.0000e-04.\n",
            "EarlyStopping counter: 1 out of 1\n",
            "Early stopping\n"
          ],
          "name": "stdout"
        }
      ]
    },
    {
      "cell_type": "code",
      "metadata": {
        "id": "kYdz986Ek_ME",
        "colab": {
          "base_uri": "https://localhost:8080/"
        },
        "outputId": "3bcc7505-c3cc-4b44-c1fa-6ece7e4d206b"
      },
      "source": [
        "model_CV2.load_state_dict(torch.load(\"CIFAR_CV2.pt\"))\n",
        "model_CV2.eval()\n",
        "# inference on test dataset\n",
        "test_loss, test_accuracy = test(model_CV2, device, criterion_CV2, test_loader, test_batch_size)"
      ],
      "execution_count": null,
      "outputs": [
        {
          "output_type": "stream",
          "text": [
            "\n",
            "Test set: Average loss: 1.8283, Accuracy: 6305/10000 (63%)\n",
            "\n"
          ],
          "name": "stdout"
        }
      ]
    },
    {
      "cell_type": "code",
      "metadata": {
        "id": "PdKQ1BJBk_aD",
        "colab": {
          "base_uri": "https://localhost:8080/"
        },
        "outputId": "d9dd8b7e-127f-486b-9cd2-da56f5d8d70d"
      },
      "source": [
        "n_class = 10\n",
        "class_con_mat, class_wise_acc = class_wise_test(model_CV2, device, criterion_CV2, test_loader, n_class)"
      ],
      "execution_count": null,
      "outputs": [
        {
          "output_type": "stream",
          "text": [
            "\n",
            "CLass wise accuracy: tensor([0.6910, 0.6810, 0.0000, 0.3540, 0.6460, 0.7390, 0.7100, 0.7460, 0.7900,\n",
            "        0.9480])\n",
            "\n",
            "\n",
            "Confusion matrix: tensor([[691.,  17.,   0.,  18.,  24.,  26.,  11.,  16.,  79., 118.],\n",
            "        [  8., 681.,   0.,   4.,   5.,   5.,   4.,   2.,  15., 276.],\n",
            "        [131.,  10.,   0.,  76., 288., 227.,  94.,  76.,  24.,  74.],\n",
            "        [ 15.,   5.,   0., 354.,  87., 303.,  71.,  45.,  11., 109.],\n",
            "        [ 19.,   3.,   0.,  24., 646.,  69.,  41., 146.,  19.,  33.],\n",
            "        [ 12.,   0.,   0.,  60.,  43., 739.,  11.,  64.,   4.,  67.],\n",
            "        [  3.,   2.,   0.,  48.,  98.,  57., 710.,  16.,   8.,  58.],\n",
            "        [  6.,   1.,   0.,  13.,  44.,  97.,   6., 746.,   4.,  83.],\n",
            "        [ 44.,  18.,   0.,   8.,   2.,  12.,   8.,   5., 790., 113.],\n",
            "        [  7.,  14.,   0.,   4.,   2.,   5.,   3.,   2.,  15., 948.]])\n",
            "\n"
          ],
          "name": "stdout"
        }
      ]
    },
    {
      "cell_type": "code",
      "metadata": {
        "id": "8wHwviy3k_jH",
        "colab": {
          "base_uri": "https://localhost:8080/"
        },
        "outputId": "11078295-81dd-426c-bb8f-fdccea3619ce"
      },
      "source": [
        "F1_score(test_loader, model_CV2)"
      ],
      "execution_count": null,
      "outputs": [
        {
          "output_type": "stream",
          "text": [
            "ave_micro_F1: 0.6305\n",
            "ave_macro_F1: 0.5869978257861063\n"
          ],
          "name": "stdout"
        }
      ]
    },
    {
      "cell_type": "code",
      "metadata": {
        "id": "IhAJ0vEplVGC",
        "colab": {
          "base_uri": "https://localhost:8080/",
          "height": 299
        },
        "outputId": "df0fb5dc-37c4-4b1f-fb01-1045c0788418"
      },
      "source": [
        "val_accuracy_list_CV2 = torch.tensor(val_accuracy_list_CV2, device = 'cpu')\n",
        "plt.scatter(range(len(val_accuracy_list_CV2)), val_accuracy_list_CV2, label=\"Validation accuracy\")\n",
        "plt.legend()\n",
        "loss_list_CV2 = torch.tensor(loss_list_CV2, device = 'cpu')\n",
        "plt.scatter(range(len(loss_list_CV2)), loss_list_CV2, label=\"Training loss\")\n",
        "plt.legend()\n",
        "\n",
        "plt.title(\"CV2\")"
      ],
      "execution_count": null,
      "outputs": [
        {
          "output_type": "execute_result",
          "data": {
            "text/plain": [
              "Text(0.5, 1.0, 'CV2')"
            ]
          },
          "metadata": {
            "tags": []
          },
          "execution_count": 67
        },
        {
          "output_type": "display_data",
          "data": {
            "image/png": "[encoded data removed]",
            "text/plain": [
              "<Figure size 432x288 with 1 Axes>"
            ]
          },
          "metadata": {
            "tags": [],
            "needs_background": "light"
          }
        }
      ]
    },
    {
      "cell_type": "markdown",
      "metadata": {
        "id": "Sg20hxeQZptf"
      },
      "source": [
        "### III-4 Training and testing for CV4 without Early Stopping"
      ]
    },
    {
      "cell_type": "code",
      "metadata": {
        "id": "RHwuFXlRZjYg",
        "colab": {
          "base_uri": "https://localhost:8080/"
        },
        "outputId": "62348d47-1b89-49be-a447-f2c24a1ab760"
      },
      "source": [
        "loss_list_resnet18 = []\n",
        "val_accuracy_list_resnet18 = []\n",
        "\n",
        "for epoch in range(1, epochs + 1):\n",
        "    # train\n",
        "    loss_list_per_epoch = train(model_resnet18, device, train_loader, optimizer_resnet, criterion_resnet, epoch, log_interval)\n",
        "    # inference on validation set \n",
        "    validation_loss, validation_accuracy= test(model_resnet18, device, criterion_resnet, val_loader, val_batch_size)\n",
        "    scheduler_resnet.step(validation_loss)\n",
        "    # log loss and acc\n",
        "    loss_list_resnet18.append(sum(loss_list_per_epoch)/len(loss_list_per_epoch))\n",
        "    val_accuracy_list_resnet18.append(validation_accuracy/100)\n",
        "    \n",
        "if save_model:\n",
        "    torch.save(model_resnet18.state_dict(), \"CIFAR-ResNet18.pt\")"
      ],
      "execution_count": null,
      "outputs": [
        {
          "output_type": "stream",
          "text": [
            "Train Epoch: 1 [0/44000 (0%)]\tLoss: 2.335021\n",
            "Train Epoch: 1 [3200/44000 (7%)]\tLoss: 2.095795\n",
            "Train Epoch: 1 [6400/44000 (15%)]\tLoss: 2.024582\n",
            "Train Epoch: 1 [9600/44000 (22%)]\tLoss: 1.936656\n",
            "Train Epoch: 1 [12800/44000 (29%)]\tLoss: 1.994975\n",
            "Train Epoch: 1 [16000/44000 (36%)]\tLoss: 1.658724\n",
            "Train Epoch: 1 [19200/44000 (44%)]\tLoss: 1.544218\n",
            "Train Epoch: 1 [22400/44000 (51%)]\tLoss: 1.488396\n",
            "Train Epoch: 1 [25600/44000 (58%)]\tLoss: 1.244573\n",
            "Train Epoch: 1 [28800/44000 (65%)]\tLoss: 1.505201\n",
            "Train Epoch: 1 [32000/44000 (73%)]\tLoss: 1.502788\n",
            "Train Epoch: 1 [35200/44000 (80%)]\tLoss: 1.346361\n",
            "Train Epoch: 1 [38400/44000 (87%)]\tLoss: 1.417714\n",
            "Train Epoch: 1 [41600/44000 (95%)]\tLoss: 1.120892\n",
            "\n",
            "Test set: Average loss: 1.3468, Accuracy: 3378/6000 (56%)\n",
            "\n",
            "Train Epoch: 2 [0/44000 (0%)]\tLoss: 1.692948\n",
            "Train Epoch: 2 [3200/44000 (7%)]\tLoss: 1.194846\n",
            "Train Epoch: 2 [6400/44000 (15%)]\tLoss: 0.939968\n",
            "Train Epoch: 2 [9600/44000 (22%)]\tLoss: 1.186292\n",
            "Train Epoch: 2 [12800/44000 (29%)]\tLoss: 0.946989\n",
            "Train Epoch: 2 [16000/44000 (36%)]\tLoss: 1.030052\n",
            "Train Epoch: 2 [19200/44000 (44%)]\tLoss: 1.384716\n",
            "Train Epoch: 2 [22400/44000 (51%)]\tLoss: 1.079435\n",
            "Train Epoch: 2 [25600/44000 (58%)]\tLoss: 1.212744\n",
            "Train Epoch: 2 [28800/44000 (65%)]\tLoss: 1.023366\n",
            "Train Epoch: 2 [32000/44000 (73%)]\tLoss: 0.890918\n",
            "Train Epoch: 2 [35200/44000 (80%)]\tLoss: 1.203671\n",
            "Train Epoch: 2 [38400/44000 (87%)]\tLoss: 0.992732\n",
            "Train Epoch: 2 [41600/44000 (95%)]\tLoss: 1.271873\n",
            "\n",
            "Test set: Average loss: 0.9468, Accuracy: 4123/6000 (69%)\n",
            "\n",
            "Train Epoch: 3 [0/44000 (0%)]\tLoss: 1.010275\n",
            "Train Epoch: 3 [3200/44000 (7%)]\tLoss: 0.718941\n",
            "Train Epoch: 3 [6400/44000 (15%)]\tLoss: 0.882963\n",
            "Train Epoch: 3 [9600/44000 (22%)]\tLoss: 0.864983\n",
            "Train Epoch: 3 [12800/44000 (29%)]\tLoss: 1.013801\n",
            "Train Epoch: 3 [16000/44000 (36%)]\tLoss: 0.964966\n",
            "Train Epoch: 3 [19200/44000 (44%)]\tLoss: 0.656083\n",
            "Train Epoch: 3 [22400/44000 (51%)]\tLoss: 0.770891\n",
            "Train Epoch: 3 [25600/44000 (58%)]\tLoss: 0.635788\n",
            "Train Epoch: 3 [28800/44000 (65%)]\tLoss: 1.125452\n",
            "Train Epoch: 3 [32000/44000 (73%)]\tLoss: 0.990554\n",
            "Train Epoch: 3 [35200/44000 (80%)]\tLoss: 0.753407\n",
            "Train Epoch: 3 [38400/44000 (87%)]\tLoss: 0.698742\n",
            "Train Epoch: 3 [41600/44000 (95%)]\tLoss: 0.899490\n",
            "\n",
            "Test set: Average loss: 0.7661, Accuracy: 4465/6000 (74%)\n",
            "\n",
            "Train Epoch: 4 [0/44000 (0%)]\tLoss: 0.761831\n",
            "Train Epoch: 4 [3200/44000 (7%)]\tLoss: 0.721206\n",
            "Train Epoch: 4 [6400/44000 (15%)]\tLoss: 1.088641\n",
            "Train Epoch: 4 [9600/44000 (22%)]\tLoss: 0.807290\n",
            "Train Epoch: 4 [12800/44000 (29%)]\tLoss: 0.598200\n",
            "Train Epoch: 4 [16000/44000 (36%)]\tLoss: 0.537627\n",
            "Train Epoch: 4 [19200/44000 (44%)]\tLoss: 0.765035\n",
            "Train Epoch: 4 [22400/44000 (51%)]\tLoss: 0.617630\n",
            "Train Epoch: 4 [25600/44000 (58%)]\tLoss: 0.616220\n",
            "Train Epoch: 4 [28800/44000 (65%)]\tLoss: 0.572749\n",
            "Train Epoch: 4 [32000/44000 (73%)]\tLoss: 0.584330\n",
            "Train Epoch: 4 [35200/44000 (80%)]\tLoss: 0.950023\n",
            "Train Epoch: 4 [38400/44000 (87%)]\tLoss: 0.828881\n",
            "Train Epoch: 4 [41600/44000 (95%)]\tLoss: 0.778159\n",
            "\n",
            "Test set: Average loss: 0.7868, Accuracy: 4448/6000 (74%)\n",
            "\n",
            "Train Epoch: 5 [0/44000 (0%)]\tLoss: 0.518522\n",
            "Train Epoch: 5 [3200/44000 (7%)]\tLoss: 0.553613\n",
            "Train Epoch: 5 [6400/44000 (15%)]\tLoss: 0.717862\n",
            "Train Epoch: 5 [9600/44000 (22%)]\tLoss: 0.570264\n",
            "Train Epoch: 5 [12800/44000 (29%)]\tLoss: 0.505976\n",
            "Train Epoch: 5 [16000/44000 (36%)]\tLoss: 0.517538\n",
            "Train Epoch: 5 [19200/44000 (44%)]\tLoss: 1.179346\n",
            "Train Epoch: 5 [22400/44000 (51%)]\tLoss: 0.731659\n",
            "Train Epoch: 5 [25600/44000 (58%)]\tLoss: 0.646621\n",
            "Train Epoch: 5 [28800/44000 (65%)]\tLoss: 0.539004\n",
            "Train Epoch: 5 [32000/44000 (73%)]\tLoss: 0.475410\n",
            "Train Epoch: 5 [35200/44000 (80%)]\tLoss: 0.343079\n",
            "Train Epoch: 5 [38400/44000 (87%)]\tLoss: 0.378969\n",
            "Train Epoch: 5 [41600/44000 (95%)]\tLoss: 0.859762\n",
            "\n",
            "Test set: Average loss: 0.6775, Accuracy: 4679/6000 (78%)\n",
            "\n"
          ],
          "name": "stdout"
        }
      ]
    },
    {
      "cell_type": "code",
      "metadata": {
        "id": "gPR9Bx8_aNh2",
        "colab": {
          "base_uri": "https://localhost:8080/"
        },
        "outputId": "60d8df7a-c95f-4074-df4a-12dffa9d6978"
      },
      "source": [
        "model_resnet18.load_state_dict(torch.load(\"CIFAR-ResNet18.pt\"))\n",
        "model_resnet18.eval()\n",
        "# inference on test dataset\n",
        "test_loss, test_accuracy = test(model_resnet18, device, criterion_resnet, test_loader, test_batch_size)"
      ],
      "execution_count": null,
      "outputs": [
        {
          "output_type": "stream",
          "text": [
            "\n",
            "Test set: Average loss: 0.6823, Accuracy: 7759/10000 (78%)\n",
            "\n"
          ],
          "name": "stdout"
        }
      ]
    },
    {
      "cell_type": "code",
      "metadata": {
        "id": "qfjQMNWfajvQ",
        "colab": {
          "base_uri": "https://localhost:8080/"
        },
        "outputId": "eefdd834-b4b4-461a-87c1-52b6988d6547"
      },
      "source": [
        "n_class = 10\n",
        "class_con_mat, class_wise_acc = class_wise_test(model_resnet18, device, criterion_resnet, test_loader, n_class)"
      ],
      "execution_count": null,
      "outputs": [
        {
          "output_type": "stream",
          "text": [
            "\n",
            "CLass wise accuracy: tensor([0.8560, 0.8980, 0.5570, 0.6780, 0.6770, 0.8130, 0.7420, 0.7700, 0.8740,\n",
            "        0.8940])\n",
            "\n",
            "\n",
            "Confusion matrix: tensor([[856.,  15.,  22.,  14.,   5.,   6.,   3.,   4.,  38.,  37.],\n",
            "        [ 15., 898.,   2.,   3.,   0.,   3.,   1.,   1.,   8.,  69.],\n",
            "        [ 92.,   3., 557., 122.,  41., 110.,  40.,  19.,   9.,   7.],\n",
            "        [ 26.,   3.,  14., 678.,  23., 205.,  15.,   8.,  15.,  13.],\n",
            "        [ 32.,   3.,  28.,  99., 677.,  67.,  29.,  54.,  10.,   1.],\n",
            "        [  6.,   2.,   7., 126.,  12., 813.,   6.,  18.,   2.,   8.],\n",
            "        [ 20.,   1.,  32., 139.,  15.,  38., 742.,   8.,   3.,   2.],\n",
            "        [ 25.,   1.,   2.,  56.,  23., 108.,   2., 770.,   3.,  10.],\n",
            "        [ 60.,  18.,   2.,   8.,   0.,   9.,   1.,   3., 874.,  25.],\n",
            "        [ 18.,  38.,   4.,  13.,   0.,   3.,   0.,   4.,  26., 894.]])\n",
            "\n"
          ],
          "name": "stdout"
        }
      ]
    },
    {
      "cell_type": "code",
      "metadata": {
        "id": "BkKDwix3a873",
        "colab": {
          "base_uri": "https://localhost:8080/"
        },
        "outputId": "806f14b7-e9d3-4224-bb90-94c93d64d810"
      },
      "source": [
        "F1_score(test_loader, model_resnet18)"
      ],
      "execution_count": null,
      "outputs": [
        {
          "output_type": "stream",
          "text": [
            "ave_micro_F1: 0.7758999999999999\n",
            "ave_macro_F1: 0.7692587783373306\n"
          ],
          "name": "stdout"
        }
      ]
    },
    {
      "cell_type": "code",
      "metadata": {
        "id": "NOMRorUFbXL1",
        "colab": {
          "base_uri": "https://localhost:8080/"
        },
        "outputId": "48f1adce-3c0d-4264-ec1b-a3dd2f885fc4"
      },
      "source": [
        "val_accuracy_list_resnet18 = torch.tensor(val_accuracy_list_resnet18, device = 'cpu')\n",
        "plt.scatter(range(len(val_accuracy_list_resnet18)), val_accuracy_list_resnet18, label=\"Validation accuracy\")\n",
        "plt.legend()\n",
        "loss_list_resnet18 = torch.tensor(loss_list_resnet18, device = 'cpu')\n",
        "plt.scatter(range(len(loss_list_resnet18)), loss_list_resnet18, label=\"Training loss\")\n",
        "plt.legend()\n",
        "\n",
        "plt.title(\"CV4\")"
      ],
      "execution_count": null,
      "outputs": [
        {
          "output_type": "execute_result",
          "data": {
            "text/plain": [
              "Text(0.5, 1.0, 'CV4')"
            ]
          },
          "metadata": {
            "tags": []
          },
          "execution_count": 60
        },
        {
          "output_type": "display_data",
          "data": {
            "image/png": "[encoded data removed]",
            "text/plain": [
              "<Figure size 432x288 with 1 Axes>"
            ]
          },
          "metadata": {
            "tags": [],
            "needs_background": "light"
          }
        }
      ]
    }
  ]
}